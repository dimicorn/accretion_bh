{
 "cells": [
  {
   "cell_type": "code",
   "execution_count": 15,
   "metadata": {},
   "outputs": [],
   "source": [
    "import numpy as np\n",
    "\n",
    "# CGS\n",
    "c = 2.99792458e10 # speed of light\n",
    "G = 6.6743e-8 # gravitational constant\n",
    "k = 1.3807e-16 # Boltzmann constant\n",
    "M_sun = 1.989e33 # Sun mass\n",
    "p = 3.086e18 # 1 parsec\n",
    "pi = np.pi"
   ]
  },
  {
   "cell_type": "markdown",
   "metadata": {},
   "source": [
    "$\\varkappa =  \\frac{c}{40 \\sqrt6} \\sqrt{\\frac{14}{11}} \\left(\\frac{1088\\pi}{11}\\right)^{1/5}$\n",
    "\n",
    "$\\lambda(n, T, \\sigma_{\\text{pc}}, \\gamma) = \\left[\\varkappa (16 nkTG^3(10 M_{\\odot})^2)^{1/5} \\left(\\frac{40 GM_{\\odot}}{\\text{1 pc}}\\right)^{\\gamma} \\sigma_{\\text{pc}}\\right]^{1/(3.6 + 2\\gamma)}$"
   ]
  },
  {
   "cell_type": "code",
   "execution_count": 16,
   "metadata": {},
   "outputs": [],
   "source": [
    "def lambd(n: float, T: float, sigma: float, gamma: float, alpha : float = 40 * np.sqrt(3)) -> float:\n",
    "    kappa = c / alpha * np.sqrt(14/11) * np.power(1088 * pi / 11, 0.2)\n",
    "    tmp = kappa * np.power(16 * n * k * T * np.power(G, 3) * 100 * M_sun * M_sun, 0.2)\n",
    "    tmp *= np.power(40 * G * M_sun / p, gamma) * sigma\n",
    "    return np.power(tmp, 1/(3.6 + 2 * gamma)) * 1e-5"
   ]
  },
  {
   "cell_type": "code",
   "execution_count": 17,
   "metadata": {},
   "outputs": [],
   "source": [
    "def larson(alpha : float = 40 * np.sqrt(3)) -> float:\n",
    "    tmp = c / alpha * np.sqrt(1.1e10) * np.power(40 * G * M_sun / p, 0.38)\n",
    "    tmp = np.power(tmp, 1/2.76) * 1e-5\n",
    "    return tmp"
   ]
  },
  {
   "cell_type": "code",
   "execution_count": 18,
   "metadata": {},
   "outputs": [],
   "source": [
    "def c_s(T: float) -> float:\n",
    "    gamma = 5/3\n",
    "    m = 1e-3\n",
    "    R = 8.31\n",
    "    return np.sqrt(gamma * R * T / m) * 1e-3"
   ]
  },
  {
   "cell_type": "markdown",
   "metadata": {},
   "source": [
    "# Schwarzschild Black Hole"
   ]
  },
  {
   "cell_type": "markdown",
   "metadata": {},
   "source": [
    "## Cold Clouds\n",
    "$T \\sim 100\\text{ K}$, $n \\sim 100\\text{ cm}^{-3}$"
   ]
  },
  {
   "cell_type": "code",
   "execution_count": 19,
   "metadata": {},
   "outputs": [],
   "source": [
    "sigma1, sigma2 = 1.03e5, 0.46e5\n",
    "gamma1, gamma2 = 0.63, 0.57"
   ]
  },
  {
   "cell_type": "markdown",
   "metadata": {},
   "source": [
    "### Cloud in Center of Galaxy "
   ]
  },
  {
   "cell_type": "code",
   "execution_count": 20,
   "metadata": {},
   "outputs": [
    {
     "name": "stdout",
     "output_type": "stream",
     "text": [
      "4.15 3.97\n"
     ]
    }
   ],
   "source": [
    "n, T = 100, 100\n",
    "shw_bh_cold_center = lambd(n, T, sigma1, gamma1)\n",
    "exp = (0.4 + gamma1) / (3.6 + 2 * gamma1)\n",
    "\n",
    "print(f'{shw_bh_cold_center:.2f} {np.sqrt(shw_bh_cold_center * shw_bh_cold_center - c_s(T) * c_s(T)):.2f}')"
   ]
  },
  {
   "cell_type": "markdown",
   "metadata": {},
   "source": [
    "### Cloud in Galactic Disk"
   ]
  },
  {
   "cell_type": "code",
   "execution_count": 21,
   "metadata": {},
   "outputs": [
    {
     "name": "stdout",
     "output_type": "stream",
     "text": [
      "3.71 3.52\n"
     ]
    }
   ],
   "source": [
    "n, T = 100, 100\n",
    "shw_bh_cold_disk = lambd(n, T, sigma2, gamma2)\n",
    "exp = (0.4 + gamma2) / (3.6 + 2 * gamma2)\n",
    "print(f'{shw_bh_cold_disk:.2f} {np.sqrt(shw_bh_cold_disk * shw_bh_cold_disk - c_s(T) * c_s(T)):.2f}')\n"
   ]
  },
  {
   "cell_type": "markdown",
   "metadata": {},
   "source": [
    "## Warm Clouds"
   ]
  },
  {
   "cell_type": "code",
   "execution_count": 22,
   "metadata": {},
   "outputs": [
    {
     "name": "stdout",
     "output_type": "stream",
     "text": [
      "16.59 16.16\n"
     ]
    }
   ],
   "source": [
    "n, T = 0.1, 1e3\n",
    "shw_bh_warm = larson()\n",
    "print(f'{shw_bh_warm:.2f} {np.sqrt(shw_bh_warm*shw_bh_warm - c_s(T)*c_s(T)):.2f}')"
   ]
  },
  {
   "cell_type": "markdown",
   "metadata": {},
   "source": [
    "## Fluctuations"
   ]
  },
  {
   "cell_type": "code",
   "execution_count": 23,
   "metadata": {},
   "outputs": [
    {
     "name": "stdout",
     "output_type": "stream",
     "text": [
      "2.80\n"
     ]
    }
   ],
   "source": [
    "coef = np.power(c / (40 * np.sqrt(6)), 3/14) * np.power(40 * G * M_sun / p, 11/28) * 1e-5\n",
    "print(f'{coef:.2f}')"
   ]
  },
  {
   "cell_type": "markdown",
   "metadata": {},
   "source": [
    "# Kerr Black Hole"
   ]
  },
  {
   "cell_type": "markdown",
   "metadata": {},
   "source": [
    "## Cold Clouds"
   ]
  },
  {
   "cell_type": "markdown",
   "metadata": {},
   "source": [
    "### Clouds in Center of Galaxy"
   ]
  },
  {
   "cell_type": "code",
   "execution_count": 24,
   "metadata": {},
   "outputs": [
    {
     "name": "stdout",
     "output_type": "stream",
     "text": [
      "5.20 3.17\n",
      "5.06\n",
      "2.95\n"
     ]
    }
   ],
   "source": [
    "n, T = 100, 100\n",
    "\n",
    "kerr_bh_cold_center_plus = lambd(n, T, sigma1, gamma1, alpha=40*np.sqrt(3)/3)\n",
    "kerr_bh_cold_center_minus = lambd(n, T, sigma1, gamma1, alpha=440*np.sqrt(3)/3)\n",
    "\n",
    "print(f'{kerr_bh_cold_center_plus:.2f} {kerr_bh_cold_center_minus:.2f}')\n",
    "print(f'{np.sqrt(kerr_bh_cold_center_plus*kerr_bh_cold_center_plus - c_s(T)*c_s(T)):.2f}')\n",
    "print(f'{np.sqrt(kerr_bh_cold_center_minus*kerr_bh_cold_center_minus - c_s(T)*c_s(T)):.2f}')"
   ]
  },
  {
   "cell_type": "markdown",
   "metadata": {},
   "source": [
    "### Clouds in Galactic Disk"
   ]
  },
  {
   "cell_type": "code",
   "execution_count": 25,
   "metadata": {},
   "outputs": [
    {
     "name": "stdout",
     "output_type": "stream",
     "text": [
      "4.67 2.82\n",
      "4.52\n",
      "2.56\n"
     ]
    }
   ],
   "source": [
    "n, T = 100, 100\n",
    "\n",
    "kerr_bh_cold_disk_plus = lambd(n, T, sigma2, gamma2, alpha=40*np.sqrt(3)/3)\n",
    "kerr_bh_cold_disk_minus = lambd(n, T, sigma2, gamma2, alpha=440*np.sqrt(3)/3)\n",
    "\n",
    "print(f'{kerr_bh_cold_disk_plus:.2f} {kerr_bh_cold_disk_minus:.2f}')\n",
    "print(f'{np.sqrt(kerr_bh_cold_disk_plus*kerr_bh_cold_disk_plus - c_s(T)*c_s(T)):.2f}')\n",
    "print(f'{np.sqrt(kerr_bh_cold_disk_minus*kerr_bh_cold_disk_minus - c_s(T)*c_s(T)):.2f}')"
   ]
  },
  {
   "cell_type": "markdown",
   "metadata": {},
   "source": [
    "## Warm Clouds"
   ]
  },
  {
   "cell_type": "code",
   "execution_count": 26,
   "metadata": {},
   "outputs": [
    {
     "name": "stdout",
     "output_type": "stream",
     "text": [
      "24.69 10.36\n",
      "24.41\n",
      "9.67\n"
     ]
    }
   ],
   "source": [
    "n, T = 0.1, 1e3\n",
    "\n",
    "kerr_bh_warm_disk_plus = larson(alpha=40*np.sqrt(3)/3)\n",
    "kerr_bh_warm_disk_minus = larson(alpha=440*np.sqrt(3)/3)\n",
    "\n",
    "print(f'{kerr_bh_warm_disk_plus:.2f} {kerr_bh_warm_disk_minus:.2f}')\n",
    "print(f'{np.sqrt(kerr_bh_warm_disk_plus*kerr_bh_warm_disk_plus - c_s(T)*c_s(T)):.2f}')\n",
    "print(f'{np.sqrt(kerr_bh_warm_disk_minus*kerr_bh_warm_disk_minus - c_s(T)*c_s(T)):.2f}')"
   ]
  }
 ],
 "metadata": {
  "kernelspec": {
   "display_name": "Python 3",
   "language": "python",
   "name": "python3"
  },
  "language_info": {
   "codemirror_mode": {
    "name": "ipython",
    "version": 3
   },
   "file_extension": ".py",
   "mimetype": "text/x-python",
   "name": "python",
   "nbconvert_exporter": "python",
   "pygments_lexer": "ipython3",
   "version": "3.9.6"
  }
 },
 "nbformat": 4,
 "nbformat_minor": 2
}
